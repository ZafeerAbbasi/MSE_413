{
 "cells": [
  {
   "cell_type": "code",
   "execution_count": 1,
   "metadata": {},
   "outputs": [],
   "source": [
    "import pandas as pd\n",
    "import seaborn as sns\n",
    "import numpy as np\n",
    "from sklearn.cluster import KMeans\n",
    "from sklearn_extra.cluster import KMedoids\n",
    "from sklearn.pipeline import make_pipeline\n",
    "from sklearn.preprocessing import StandardScaler\n",
    "from sklearn.ensemble import RandomForestClassifier\n",
    "from sklearn.metrics import classification_report, confusion_matrix"
   ]
  },
  {
   "cell_type": "code",
   "execution_count": 2,
   "metadata": {},
   "outputs": [],
   "source": [
    "df = pd.read_csv(\"Data\\\\Human activity.csv\").drop(\"subject\", axis=1)\n",
    "df_ac = df[\"Activity\"]\n",
    "df_in = df.drop(\"Activity\", axis=1)\n",
    "test = pd.read_csv(\"Data\\\\test.csv\").drop(\"subject\", axis=1)\n",
    "test_ac =test[\"Activity\"]\n",
    "test_in = test.drop(\"Activity\", axis=1)"
   ]
  },
  {
   "cell_type": "code",
   "execution_count": 3,
   "metadata": {},
   "outputs": [],
   "source": [
    "model = RandomForestClassifier(n_estimators=20, max_depth=20, random_state=42).fit(df_in, df_ac)"
   ]
  },
  {
   "cell_type": "code",
   "execution_count": 4,
   "metadata": {},
   "outputs": [
    {
     "name": "stdout",
     "output_type": "stream",
     "text": [
      "                    precision    recall  f1-score   support\n",
      "\n",
      "            LAYING       1.00      1.00      1.00       537\n",
      "           SITTING       0.90      0.87      0.88       491\n",
      "          STANDING       0.88      0.91      0.89       532\n",
      "           WALKING       0.86      0.96      0.91       496\n",
      "WALKING_DOWNSTAIRS       0.96      0.87      0.91       420\n",
      "  WALKING_UPSTAIRS       0.89      0.86      0.87       471\n",
      "\n",
      "          accuracy                           0.91      2947\n",
      "         macro avg       0.91      0.91      0.91      2947\n",
      "      weighted avg       0.91      0.91      0.91      2947\n",
      "\n",
      "[[537   0   0   0   0   0]\n",
      " [  0 425  66   0   0   0]\n",
      " [  0  48 484   0   0   0]\n",
      " [  0   0   0 475   3  18]\n",
      " [  0   0   0  21 365  34]\n",
      " [  0   0   0  54  14 403]]\n"
     ]
    }
   ],
   "source": [
    "print(classification_report(test_ac, model.predict(test_in)))\n",
    "print(confusion_matrix(test_ac, model.predict(test_in)))"
   ]
  },
  {
   "cell_type": "code",
   "execution_count": 5,
   "metadata": {},
   "outputs": [],
   "source": [
    "kmodel = KMeans(6, random_state=18).fit(df_in)\n",
    "kmodel_centers = kmodel.cluster_centers_\n",
    "kmodel_labels = kmodel.labels_\n",
    "Feature = df_in.to_numpy()\n",
    "num_rows, num_cols = Feature.shape\n",
    "dist = [None]*num_rows\n",
    "df_pruned = df.copy()\n",
    "for i in range(6):\n",
    "    for j in range(num_rows):\n",
    "        if kmodel_labels[j] == i:\n",
    "            dist[j] = np.linalg.norm(kmodel_centers[i]-Feature[j])\n",
    "            if dist[j] > 5:\n",
    "                df_pruned.loc[j, \"Activity\"] = None\n",
    "df_pruned = df_pruned.dropna()\n",
    "\n",
    "df_pruned_activity = df_pruned[\"Activity\"]\n",
    "df_pruned_inputs = df_pruned.drop(\"Activity\", axis=1)"
   ]
  },
  {
   "cell_type": "code",
   "execution_count": 30,
   "metadata": {},
   "outputs": [
    {
     "name": "stdout",
     "output_type": "stream",
     "text": [
      "Results for K=3\n",
      "0.922737780066244\n",
      "Results for K=4\n",
      "0.9146074503676753\n"
     ]
    }
   ],
   "source": [
    "df_with_cluster = df_pruned_inputs.copy()\n",
    "accuracies = []\n",
    "\n",
    "for k in range(3, 5):\n",
    "    kmeans_model = KMeans(n_clusters=k, random_state=18).fit(df_pruned_inputs)\n",
    "    kmeans_values = kmeans_model.predict(df_pruned_inputs)\n",
    "    if \"Cluster\" not in df_with_cluster.columns:\n",
    "        df_with_cluster.insert(0, \"Cluster\", kmeans_values)\n",
    "    df_with_cluster.loc[:, \"Cluster\"] = kmeans_values\n",
    "    rand_forest = RandomForestClassifier(n_estimators=20, max_depth=20, random_state=42).fit(df_with_cluster, df_pruned_activity)\n",
    "    print(\"Results for K={}\".format(k))\n",
    "    kmeans_values_test = kmeans_model.predict(test_in)\n",
    "    test_in2 = test_in.copy()\n",
    "    test_in2.insert(0, \"Cluster\", kmeans_values_test)\n",
    "    report = classification_report(test_ac, rand_forest.predict(test_in2), output_dict=True)\n",
    "    accuracies.append(report['accuracy'])\n",
    "    print(report['weighted avg']['f1-score'])\n",
    "    # print(confusion_matrix(test_ac, rand_forest.predict(test_in)))\n"
   ]
  }
 ],
 "metadata": {
  "kernelspec": {
   "display_name": "Python 3",
   "language": "python",
   "name": "python3"
  },
  "language_info": {
   "codemirror_mode": {
    "name": "ipython",
    "version": 3
   },
   "file_extension": ".py",
   "mimetype": "text/x-python",
   "name": "python",
   "nbconvert_exporter": "python",
   "pygments_lexer": "ipython3",
   "version": "3.11.7"
  }
 },
 "nbformat": 4,
 "nbformat_minor": 2
}
