{
 "cells": [
  {
   "cell_type": "code",
   "execution_count": 31,
   "metadata": {},
   "outputs": [],
   "source": [
    "import numpy as np\n",
    "import pandas as pd\n",
    "from pathlib import Path\n",
    "from numpy import linalg\n",
    "from sklearn.cluster import KMeans\n",
    "from sklearn.ensemble import RandomForestClassifier\n",
    "from sklearn.metrics import confusion_matrix, accuracy_score, precision_score, recall_score, f1_score"
   ]
  },
  {
   "cell_type": "code",
   "execution_count": 32,
   "metadata": {},
   "outputs": [
    {
     "name": "stderr",
     "output_type": "stream",
     "text": [
      "C:\\Users\\lenovo\\AppData\\Local\\Temp\\ipykernel_15104\\838331052.py:3: DtypeWarning: Columns (562) have mixed types. Specify dtype option on import or set low_memory=False.\n",
      "  df = pd.read_csv(file_path)\n"
     ]
    }
   ],
   "source": [
    "\n",
    "# Load the data using the provided file path\n",
    "file_path = r\"C:\\Users\\lenovo\\Desktop\\Uni STuff\\SFU\\Year 4\\MSE 491\\Calc\\MSE_413\\Lab3\\code\\Data\\Human activity semi-supervised.csv\"\n",
    "df = pd.read_csv(file_path)\n",
    "\n",
    "# Make copies and perform necessary operations\n",
    "Data_unlabeled = df.copy()  # Create a copy for unlabeled data\n",
    "Data_unlabeled2 = Data_unlabeled.dropna()  # Drop rows with missing values\n",
    "Data_labeled = Data_unlabeled.copy()  # Create a copy for labeled data\n",
    "Data_train = Data_unlabeled.drop([\"subject\", \"Activity\"], axis=1)  # Remove 'subject' and 'Activity' columns from the feature set"
   ]
  },
  {
   "cell_type": "code",
   "execution_count": 33,
   "metadata": {},
   "outputs": [],
   "source": [
    "# Perform K-means clustering\n",
    "n_clusters = 9\n",
    "kmeans = KMeans(n_clusters=n_clusters, random_state=42, n_init=\"auto\").fit(Data_train)\n",
    "kmeans_2 = kmeans.labels_\n",
    "centers = kmeans.cluster_centers_"
   ]
  },
  {
   "cell_type": "code",
   "execution_count": 34,
   "metadata": {},
   "outputs": [],
   "source": [
    "import numpy as np\n",
    "\n",
    "# Calculate distances and assign labels\n",
    "Features = Data_unlabeled2.drop([\"subject\", \"Activity\"], axis=1)\n",
    "Feature = Features.to_numpy()\n",
    "\n",
    "# Calculate the number of rows in the feature matrix\n",
    "num_rows, num_cols = Feature.shape\n",
    "\n",
    "# Initialize list to store distances\n",
    "dist = [None] * num_rows\n",
    "\n",
    "# Loop over clusters\n",
    "for i in range(n_clusters):\n",
    "    # Loop over data points\n",
    "    for j in range(num_rows):\n",
    "        # Calculate Euclidean distance between centroid and data point\n",
    "        dist[j] = np.linalg.norm(centers[i] - Feature[j])\n",
    "\n",
    "    # Find the index of the closest data point to the centroid\n",
    "    index_min = np.argmin(dist)\n",
    "\n",
    "    # Assign labels to data points in the same cluster\n",
    "    for k in range(num_rows):\n",
    "        if kmeans_2[k] == i:\n",
    "            # Update labeled data with the corresponding activity from the closest data point\n",
    "            Data_labeled.loc[k, \"Activity\"] = Data_unlabeled.loc[Features.index[index_min], \"Activity\"]\n"
   ]
  },
  {
   "cell_type": "code",
   "execution_count": 35,
   "metadata": {},
   "outputs": [
    {
     "name": "stdout",
     "output_type": "stream",
     "text": [
      "Best K for K-means: 6\n",
      "Accuracy with best K: 0.9956474428726877\n"
     ]
    }
   ],
   "source": [
    "#Task 4: Train a random forest classifier on labeled dataset using K-means for 5<K<13\n",
    "results = {}\n",
    "for k in range(5, 13):\n",
    "    kmeans = KMeans(n_clusters=k, random_state=42, n_init=\"auto\").fit(Data_train)\n",
    "    kmeans_labels = kmeans.labels_\n",
    "    rf_classifier = RandomForestClassifier(n_estimators=10, max_depth=10, random_state=42)\n",
    "    rf_classifier.fit(Data_train, kmeans_labels)\n",
    "    # Predict labels for the training set (using the same set for illustration purposes)\n",
    "    y_train_pred = rf_classifier.predict(Data_train)\n",
    "    accuracy = accuracy_score(kmeans_labels, y_train_pred)\n",
    "    results[k] = accuracy\n",
    "\n",
    "best_k = max(results, key=results.get)\n",
    "best_accuracy = results[best_k]\n",
    "\n",
    "print(\"Best K for K-means:\", best_k)\n",
    "print(\"Accuracy with best K:\", best_accuracy)"
   ]
  },
  {
   "cell_type": "code",
   "execution_count": 37,
   "metadata": {},
   "outputs": [],
   "source": [
    "# Task 5: Label unlabeled data based on closest activity to centroid\n",
    "for i in range(n_clusters):\n",
    "    # Initialize variables to store the minimum distance and corresponding activity\n",
    "    min_distance = float('inf')  # Initialize with a large value\n",
    "    closest_activity = None\n",
    "\n",
    "    # Calculate distances between each data point and centroid of cluster i\n",
    "    for j in range(len(Feature)):\n",
    "        distance = np.linalg.norm(centers[i] - Feature[j])\n",
    "\n",
    "        # Check if the data point is unlabeled and if its distance is smaller than the current minimum\n",
    "        if kmeans_2[j] == i and pd.isnull(Data_labeled.iloc[j][\"Activity\"]) and distance < min_distance:\n",
    "            min_distance = distance\n",
    "            closest_activity = Data_unlabeled2.iloc[j][\"Activity\"]\n",
    "\n",
    "    # Label all unlabeled data points in cluster i with the closest activity\n",
    "    for k in range(len(Feature)):\n",
    "        if kmeans_2[k] == i and pd.isnull(Data_labeled.iloc[k][\"Activity\"]):\n",
    "            Data_labeled.loc[k, \"Activity\"] = closest_activity"
   ]
  },
  {
   "cell_type": "code",
   "execution_count": 22,
   "metadata": {},
   "outputs": [
    {
     "name": "stdout",
     "output_type": "stream",
     "text": [
      "Trained models for different values of K: {5: RandomForestClassifier(max_depth=10, n_estimators=10, random_state=42), 6: RandomForestClassifier(max_depth=10, n_estimators=10, random_state=42), 7: RandomForestClassifier(max_depth=10, n_estimators=10, random_state=42), 8: RandomForestClassifier(max_depth=10, n_estimators=10, random_state=42), 9: RandomForestClassifier(max_depth=10, n_estimators=10, random_state=42), 10: RandomForestClassifier(max_depth=10, n_estimators=10, random_state=42), 11: RandomForestClassifier(max_depth=10, n_estimators=10, random_state=42), 12: RandomForestClassifier(max_depth=10, n_estimators=10, random_state=42)}\n"
     ]
    }
   ],
   "source": [
    "# Task 6: Train random forest classifier using K-means for 5 < K < 13\n",
    "\n",
    "# Initialize dictionary to store trained models for different K\n",
    "trained_models = {}\n",
    "\n",
    "# Define parameters for random forest classifier\n",
    "n_estimators = 10\n",
    "max_depth = 10\n",
    "random_state = 42\n",
    "\n",
    "# Iterate over values of K from 5 to 12\n",
    "for k in range(5, 13):\n",
    "    # Perform K-means clustering\n",
    "    kmeans = KMeans(n_clusters=k, random_state=42, n_init=\"auto\").fit(Data_train)\n",
    "    kmeans_labels = kmeans.labels_\n",
    "    # Train random forest classifier\n",
    "    rf_classifier = RandomForestClassifier(n_estimators=n_estimators, max_depth=max_depth, random_state=random_state)\n",
    "    rf_classifier.fit(Data_train, kmeans_labels)\n",
    "    # Store the trained model for evaluation\n",
    "    trained_models[k] = rf_classifier\n",
    "# Print the trained models\n",
    "print(\"Trained models for different values of K:\", trained_models)"
   ]
  }
 ],
 "metadata": {
  "kernelspec": {
   "display_name": "Python 3",
   "language": "python",
   "name": "python3"
  },
  "language_info": {
   "codemirror_mode": {
    "name": "ipython",
    "version": 3
   },
   "file_extension": ".py",
   "mimetype": "text/x-python",
   "name": "python",
   "nbconvert_exporter": "python",
   "pygments_lexer": "ipython3",
   "version": "3.11.2"
  }
 },
 "nbformat": 4,
 "nbformat_minor": 2
}
