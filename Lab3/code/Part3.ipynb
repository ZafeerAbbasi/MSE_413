{
 "cells": [
  {
   "cell_type": "code",
   "execution_count": 53,
   "metadata": {},
   "outputs": [],
   "source": [
    "import pandas as pd\n",
    "import seaborn as sns\n",
    "import numpy as np\n",
    "from sklearn.cluster import KMeans\n",
    "from sklearn_extra.cluster import KMedoids\n",
    "from sklearn.pipeline import make_pipeline\n",
    "from sklearn.preprocessing import StandardScaler\n",
    "from sklearn.ensemble import RandomForestClassifier\n",
    "from sklearn.metrics import classification_report, confusion_matrix"
   ]
  },
  {
   "cell_type": "code",
   "execution_count": 54,
   "metadata": {},
   "outputs": [
    {
     "name": "stderr",
     "output_type": "stream",
     "text": [
      "C:\\Users\\alexm\\AppData\\Local\\Temp\\ipykernel_15288\\2170602971.py:1: DtypeWarning: Columns (562) have mixed types. Specify dtype option on import or set low_memory=False.\n",
      "  df_raw = pd.read_csv(\"Data\\\\Human activity semi-supervised.csv\").drop(\"subject\", axis=1)\n"
     ]
    }
   ],
   "source": [
    "df_raw = pd.read_csv(\"Data\\\\Human activity semi-supervised.csv\").drop(\"subject\", axis=1)\n",
    "test = pd.read_csv(\"Data\\\\test.csv\").drop(\"subject\", axis=1)\n",
    "df_labeled = df_raw.copy()\n",
    "\n",
    "df = df_raw.dropna()\n",
    "activities = df[\"Activity\"]\n",
    "test_activites = test[\"Activity\"]\n",
    "inputs = df.drop(\"Activity\", axis=1)\n",
    "test_inputs = test.drop(\"Activity\", axis=1)"
   ]
  },
  {
   "cell_type": "code",
   "execution_count": 55,
   "metadata": {},
   "outputs": [
    {
     "name": "stdout",
     "output_type": "stream",
     "text": [
      "                    precision    recall  f1-score   support\n",
      "\n",
      "            LAYING       0.47      0.75      0.58       537\n",
      "           SITTING       0.16      0.23      0.18       491\n",
      "          STANDING       0.46      0.27      0.34       532\n",
      "           WALKING       0.30      0.15      0.20       496\n",
      "WALKING_DOWNSTAIRS       0.32      0.29      0.30       420\n",
      "  WALKING_UPSTAIRS       0.54      0.46      0.50       471\n",
      "\n",
      "          accuracy                           0.37      2947\n",
      "         macro avg       0.37      0.36      0.35      2947\n",
      "      weighted avg       0.38      0.37      0.35      2947\n",
      "\n",
      "[[404  66  66   0   0   1]\n",
      " [267 112 107   0   0   5]\n",
      " [193 184 146   0   0   9]\n",
      " [  0 155   0  76 138 127]\n",
      " [  0 105   0 151 123  41]\n",
      " [  0 100   0  26 129 216]]\n"
     ]
    }
   ],
   "source": [
    "rand_forest = RandomForestClassifier(n_estimators=10, max_depth=10, random_state=42).fit(inputs, activities)\n",
    "print(classification_report(test_activites, rand_forest.predict(test_inputs)))\n",
    "print(confusion_matrix(test_activites, rand_forest.predict(test_inputs)))"
   ]
  },
  {
   "cell_type": "code",
   "execution_count": 56,
   "metadata": {},
   "outputs": [],
   "source": [
    "kmeans_model = KMeans(n_clusters=6, random_state=42).fit(inputs)"
   ]
  },
  {
   "cell_type": "code",
   "execution_count": 60,
   "metadata": {},
   "outputs": [],
   "source": [
    "kmeans_labels = kmeans_model.labels_\n",
    "centers = kmeans_model.cluster_centers_\n",
    "Features = inputs.to_numpy()\n",
    "num_rows, num_cols = Features.shape\n",
    "dist = [None]*num_rows\n",
    "for i in range(6):\n",
    "    for j in range(num_rows):\n",
    "        dist[j] = np.linalg.norm(centers[i]-Features[j])\n",
    "    index_min = np.argmin(dist)\n",
    "    for k in range(len(kmeans_labels)):\n",
    "        if kmeans_labels[k] == i:\n",
    "            df_labeled.loc[k, \"Activity\"] = df_raw.loc[inputs.index[index_min], \"Activity\"]\n",
    "\n",
    "inputs_labeled = df_labeled.drop(\"Activity\", axis=1)\n"
   ]
  },
  {
   "cell_type": "code",
   "execution_count": 61,
   "metadata": {},
   "outputs": [],
   "source": [
    "conf_matricies = [None]*9\n",
    "class_rep = [None]*9\n",
    "for i in range(5,14):\n",
    "    kmeans_model = KMeans(n_clusters=i).fit(inputs_labeled)\n",
    "    model = RandomForestClassifier(n_estimators=10, max_depth=10, random_state=42).fit(inputs_labeled, kmeans_model.predict(inputs_labeled))\n",
    "    conf_matricies[i-5] = confusion_matrix(test_activites, model.predict())"
   ]
  }
 ],
 "metadata": {
  "kernelspec": {
   "display_name": "Python 3",
   "language": "python",
   "name": "python3"
  },
  "language_info": {
   "codemirror_mode": {
    "name": "ipython",
    "version": 3
   },
   "file_extension": ".py",
   "mimetype": "text/x-python",
   "name": "python",
   "nbconvert_exporter": "python",
   "pygments_lexer": "ipython3",
   "version": "3.11.7"
  }
 },
 "nbformat": 4,
 "nbformat_minor": 2
}
