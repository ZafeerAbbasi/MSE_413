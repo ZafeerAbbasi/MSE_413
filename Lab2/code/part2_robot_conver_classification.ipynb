{
 "cells": [
  {
   "cell_type": "code",
   "execution_count": null,
   "metadata": {},
   "outputs": [],
   "source": [
    "import numpy as np\n",
    "import pandas as pd\n",
    "import pickle\n",
    "import matplotlib.pyplot as plt\n",
    "from sklearn.model_selection import train_test_split\n",
    "from sklearn.metrics import classification_report, confusion_matrix\n",
    "from sklearn.tree import DecisionTreeClassifier\n",
    "\n",
    "\n",
    "# Load the dataset\n",
    "df = pd.read_csv(\"Classification of Robots from their conversation sequence.csv\")\n",
    "# Display the first 10 rows of the dataset\n",
    "print(df.head(10))\n"
   ]
  },
  {
   "cell_type": "code",
   "execution_count": null,
   "metadata": {},
   "outputs": [],
   "source": [
    "# Assuming your DataFrame is named df\n",
    "X = df[['num1', 'num2', 'num3', 'num4', 'num5', 'num6', 'num7']]  # Features\n",
    "y = df['Robot']  # Labels\n",
    "\n",
    "\n",
    "# Split the data into training (80%) and test (20%) sets\n",
    "X_train, X_test, y_train, y_test = train_test_split(X, y, test_size=0.2, random_state=42)"
   ]
  },
  {
   "cell_type": "code",
   "execution_count": null,
   "metadata": {},
   "outputs": [],
   "source": [
    "MODEL_Trainer = DecisionTreeClassifier()\n",
    "\n",
    "MODEL_Trainer.fit(X_train, y_train)\n",
    "\n",
    "# Predict the trained model on our test data\n",
    "y_pred = MODEL_Trainer.predict(X_test)\n",
    "\n",
    "# Print the Classification Report and Confusion Matrix\n",
    "print(\"Classification Report:\")\n",
    "print(classification_report(y_test, y_pred))\n",
    "print(\"Confusion Matrix:\")\n",
    "print(confusion_matrix(y_test, y_pred))"
   ]
  }
 ],
 "metadata": {
  "language_info": {
   "name": "python"
  }
 },
 "nbformat": 4,
 "nbformat_minor": 2
}
