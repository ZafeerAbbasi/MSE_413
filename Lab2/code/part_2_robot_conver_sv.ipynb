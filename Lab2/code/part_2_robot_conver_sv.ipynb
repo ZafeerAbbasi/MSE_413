{
 "cells": [
  {
   "cell_type": "code",
   "execution_count": 2,
   "metadata": {},
   "outputs": [
    {
     "name": "stdout",
     "output_type": "stream",
     "text": [
      "   Robot   num1    num2     num3     num4      num5       num6       num7  \\\n",
      "0      1      2       5        2        5         6          2          1   \n",
      "1      2   1747    1749     1751     1758      1765       1767       1772   \n",
      "2      3  65056  195168  1561344  7806720  31226880  187361280  749445120   \n",
      "3      4   2855    2860     2865     2870      2875       2880       2885   \n",
      "4      5  11440   57200   286000  1430000   7150000   35750000  178750000   \n",
      "5      1      4       9        5        4         8          6          6   \n",
      "6      2   1487    1491     1498     1503      1512       1514       1518   \n",
      "7      3  18850   18850   113100   452400    452400    1809600    3619200   \n",
      "8      4   8962    8967     8972     8977      8982       8987       8992   \n",
      "9      5   2870   14350    71750   358750   1793750    8968750   44843750   \n",
      "\n",
      "           num8          num9         num10  \n",
      "0  8.000000e+00  1.000000e+00  3.000000e+00  \n",
      "1  1.774000e+03  1.783000e+03  1.785000e+03  \n",
      "2  6.745006e+09  6.745006e+09  6.745006e+09  \n",
      "3  2.890000e+03  2.895000e+03  2.900000e+03  \n",
      "4  8.937500e+08  4.468750e+09  2.234375e+10  \n",
      "5  7.000000e+00  7.000000e+00  2.000000e+00  \n",
      "6  1.522000e+03  1.524000e+03  1.528000e+03  \n",
      "7  3.619200e+06  7.238400e+06  5.066880e+07  \n",
      "8  8.997000e+03  9.002000e+03  9.007000e+03  \n",
      "9  2.242188e+08  1.121094e+09  5.605469e+09  \n",
      "(500000, 11)\n"
     ]
    }
   ],
   "source": [
    "import numpy as np\n",
    "import math\n",
    "import pandas as pd\n",
    "import pickle\n",
    "import matplotlib.pyplot as plt\n",
    "import seaborn as sns\n",
    "from sklearn.model_selection import train_test_split\n",
    "from sklearn.metrics import classification_report, confusion_matrix\n",
    "from sklearn.svm import SVC\n",
    "from sklearn.preprocessing import Normalizer\n",
    "from sklearn.pipeline import Pipeline\n",
    "import statistics\n",
    "\n",
    "# Load the dataset\n",
    "df = pd.read_csv(\"Classification of Robots from their conversation sequence.csv\")\n",
    "# Display the first 10 rows of the dataset\n",
    "print(df.head(10))\n",
    "print(df.shape)"
   ]
  },
  {
   "cell_type": "code",
   "execution_count": 3,
   "metadata": {},
   "outputs": [],
   "source": [
    "# Assuming your DataFrame is named df\n",
    "X = df[['num1', 'num2', 'num3', 'num4', 'num5', 'num6', 'num7', 'num8', 'num9', 'num10']]  # Features\n",
    "y = df['Robot']  # Labels\n",
    "\n",
    "\n",
    "# Split the data into training (80%) and test (20%) sets\n",
    "X_train, X_test, y_train, y_test = train_test_split(X, y, test_size=0.2, random_state=42)"
   ]
  },
  {
   "cell_type": "code",
   "execution_count": 4,
   "metadata": {},
   "outputs": [],
   "source": [
    "#scaler = Normalizer()\n",
    "#X_train_normalized = scaler.fit_transform(X_train)\n",
    "#X_test_normalized = scaler.transform(X_test)\n",
    "\n",
    "# MODEL_Trainer = SVC(C=10000, kernel='rbf')\n",
    "\n",
    "# This takes too long to run\n",
    "# MODEL_Trainer.fit(X_train_normalized, y_train)"
   ]
  },
  {
   "cell_type": "code",
   "execution_count": 5,
   "metadata": {},
   "outputs": [],
   "source": [
    "# Predict the trained model on our test data\n",
    "\n",
    "# This takes too long to run\n",
    "# y_pred = MODEL_Trainer.predict(X_test_normalized)\n",
    "\n",
    "# Print the Classification Report and Confusion Matrix\n",
    "# print(\"Classification Report:\")\n",
    "# print(classification_report(y_test, y_pred))\n",
    "# print(\"Confusion Matrix:\")\n",
    "# print(confusion_matrix(y_test, y_pred))\n",
    "\n",
    "# sns.heatmap(confusion_matrix(y_test, y_pred), annot=True, fmt='d', cmap='viridis', xticklabels=['1', '2', '3', '4', '5'], yticklabels=['1', '2', '3', '4', '5'])"
   ]
  },
  {
   "cell_type": "code",
   "execution_count": 7,
   "metadata": {},
   "outputs": [
    {
     "name": "stdout",
     "output_type": "stream",
     "text": [
      "40000\n",
      "40000\n",
      "40000\n",
      "40000\n",
      "40000\n",
      "40000\n",
      "40000\n",
      "40000\n",
      "40000\n",
      "40000\n",
      "0\n",
      "1\n",
      "2\n",
      "3\n",
      "4\n",
      "5\n",
      "6\n",
      "7\n",
      "8\n",
      "9\n",
      "0\n",
      "1\n",
      "2\n",
      "3\n",
      "4\n",
      "5\n",
      "6\n",
      "7\n",
      "8\n",
      "9\n"
     ]
    }
   ],
   "source": [
    "chunk_number = 10\n",
    "chunk_size = math.ceil(len(y_train) / chunk_number)\n",
    "x_chunked = {}\n",
    "y_chunked = {}\n",
    "m = 0\n",
    "\n",
    "for i in range(0, len(y_train), chunk_size):\n",
    "    if m == chunk_number-1:\n",
    "        chunk_size = len(X_train) - m * chunk_size\n",
    "    x_chunked[str(\"chunk\"+str(m))] = X_train[i:i+chunk_size]\n",
    "    y_chunked[str(\"chunk\"+str(m))] = y_train[i:i+chunk_size]\n",
    "    print(chunk_size)\n",
    "    m = m + 1\n",
    "\n",
    "for i in range(chunk_number):\n",
    "    Data_M = x_chunked[str(\"chunk\"+str(i))].copy()\n",
    "    Data_labels_M = y_chunked[str(\"chunk\"+str(i))].copy()\n",
    "    SVMC = Pipeline(steps=[('Normal', Normalizer()), ('SVMC', SVC(C=1000000, kernel='rbf'))])\n",
    "    SVMC.fit(Data_M, Data_labels_M)\n",
    "    pickle.dump(SVMC, open(str(\"SV_Models\\\\SVMC\"+str(i)+\".pkl\"), 'wb'))\n",
    "    print(i)\n",
    "\n",
    "OUT_SVMC={}\n",
    "store = [[0 for col in range(chunk_number)] for row in range(len(y_test))]\n",
    "Lables_SVMC_predicted=[[0 for col in range(1)] for row in range(len(y_test))]\n",
    "\n",
    "for i in range(0,chunk_number):\n",
    "    SVMC1 = pickle.load(open(str('SV_Models\\\\SVMC' + str(i) + '.pkl'), 'rb'))\n",
    "    OUT_SVMC[str(\"chunk\"+str(i))] = SVMC1.predict(X_test)\n",
    "    print(i)\n",
    "\n",
    "for j in range(0,len(X_test)):\n",
    "    for i in range(0,chunk_number):\n",
    "        store[j][i]=OUT_SVMC[str(\"chunk\"+str(i))][j]\n",
    "        Lables_SVMC_predicted[j]=statistics.mode(store[j])"
   ]
  },
  {
   "cell_type": "code",
   "execution_count": 16,
   "metadata": {},
   "outputs": [
    {
     "name": "stdout",
     "output_type": "stream",
     "text": [
      "              precision    recall  f1-score   support\n",
      "\n",
      "           1       1.00      1.00      1.00     19909\n",
      "           2       0.52      0.91      0.67     20027\n",
      "           3       1.00      0.99      1.00     20166\n",
      "           4       0.66      0.17      0.27     20024\n",
      "           5       0.99      1.00      1.00     19874\n",
      "\n",
      "    accuracy                           0.81    100000\n",
      "   macro avg       0.84      0.81      0.78    100000\n",
      "weighted avg       0.83      0.81      0.78    100000\n",
      "\n"
     ]
    },
    {
     "data": {
      "text/plain": [
       "<Axes: >"
      ]
     },
     "execution_count": 16,
     "metadata": {},
     "output_type": "execute_result"
    },
    {
     "data": {
      "image/png": "[encoded data removed]",
      "text/plain": [
       "<Figure size 640x480 with 2 Axes>"
      ]
     },
     "metadata": {},
     "output_type": "display_data"
    }
   ],
   "source": [
    "print(classification_report(y_test, Lables_SVMC_predicted))\n",
    "sns.heatmap(confusion_matrix(y_test, Lables_SVMC_predicted), annot=True, fmt='d', cmap='viridis', xticklabels=['1', '2', '3', '4', '5'], yticklabels=['1', '2', '3', '4', '5'])"
   ]
  },
  {
   "cell_type": "code",
   "execution_count": 17,
   "metadata": {},
   "outputs": [
    {
     "name": "stdout",
     "output_type": "stream",
     "text": [
      "20000\n",
      "20000\n",
      "20000\n",
      "20000\n",
      "20000\n",
      "20000\n",
      "20000\n",
      "20000\n",
      "20000\n",
      "20000\n",
      "20000\n",
      "20000\n",
      "20000\n",
      "20000\n",
      "20000\n",
      "20000\n",
      "20000\n",
      "20000\n",
      "20000\n",
      "20000\n",
      "0\n",
      "1\n",
      "2\n",
      "3\n",
      "4\n",
      "5\n",
      "6\n",
      "7\n",
      "8\n",
      "9\n",
      "10\n",
      "11\n",
      "12\n",
      "13\n",
      "14\n",
      "15\n",
      "16\n",
      "17\n",
      "18\n",
      "19\n",
      "0\n",
      "1\n",
      "2\n",
      "3\n",
      "4\n",
      "5\n",
      "6\n",
      "7\n",
      "8\n",
      "9\n",
      "10\n",
      "11\n",
      "12\n",
      "13\n",
      "14\n",
      "15\n",
      "16\n",
      "17\n",
      "18\n",
      "19\n"
     ]
    }
   ],
   "source": [
    "chunk_number = 20\n",
    "chunk_size = math.ceil(len(y_train) / chunk_number)\n",
    "x_chunked = {}\n",
    "y_chunked = {}\n",
    "m = 0\n",
    "\n",
    "for i in range(0, len(y_train), chunk_size):\n",
    "    if m == chunk_number-1:\n",
    "        chunk_size = len(X_train) - m * chunk_size\n",
    "    x_chunked[str(\"chunk\"+str(m))] = X_train[i:i+chunk_size]\n",
    "    y_chunked[str(\"chunk\"+str(m))] = y_train[i:i+chunk_size]\n",
    "    print(chunk_size)\n",
    "    m = m + 1\n",
    "\n",
    "for i in range(chunk_number):\n",
    "    Data_M = x_chunked[str(\"chunk\"+str(i))].copy()\n",
    "    Data_labels_M = y_chunked[str(\"chunk\"+str(i))].copy()\n",
    "    SVMC = Pipeline(steps=[('Normal', Normalizer()), ('SVMC', SVC(C=1000000, kernel='rbf'))])\n",
    "    SVMC.fit(Data_M, Data_labels_M)\n",
    "    pickle.dump(SVMC, open(str(\"SV_Models\\\\SVMC\"+str(i)+\".pkl\"), 'wb'))\n",
    "    print(i)\n",
    "\n",
    "OUT_SVMC={}\n",
    "store = [[0 for col in range(chunk_number)] for row in range(len(y_test))]\n",
    "Lables_SVMC_predicted=[[0 for col in range(1)] for row in range(len(y_test))]\n",
    "\n",
    "for i in range(0,chunk_number):\n",
    "    SVMC1 = pickle.load(open(str('SV_Models\\\\SVMC' + str(i) + '.pkl'), 'rb'))\n",
    "    OUT_SVMC[str(\"chunk\"+str(i))] = SVMC1.predict(X_test)\n",
    "    print(i)\n",
    "\n",
    "for j in range(0,len(X_test)):\n",
    "    for i in range(0,chunk_number):\n",
    "        store[j][i]=OUT_SVMC[str(\"chunk\"+str(i))][j]\n",
    "        Lables_SVMC_predicted[j]=statistics.mode(store[j])"
   ]
  },
  {
   "cell_type": "code",
   "execution_count": 18,
   "metadata": {},
   "outputs": [
    {
     "name": "stdout",
     "output_type": "stream",
     "text": [
      "              precision    recall  f1-score   support\n",
      "\n",
      "           1       1.00      1.00      1.00     19909\n",
      "           2       0.52      0.90      0.66     20027\n",
      "           3       1.00      0.99      1.00     20166\n",
      "           4       0.63      0.18      0.28     20024\n",
      "           5       0.99      1.00      1.00     19874\n",
      "\n",
      "    accuracy                           0.81    100000\n",
      "   macro avg       0.83      0.81      0.79    100000\n",
      "weighted avg       0.83      0.81      0.79    100000\n",
      "\n"
     ]
    },
    {
     "data": {
      "text/plain": [
       "<Axes: >"
      ]
     },
     "execution_count": 18,
     "metadata": {},
     "output_type": "execute_result"
    },
    {
     "data": {
      "image/png": "[encoded data removed]",
      "text/plain": [
       "<Figure size 640x480 with 2 Axes>"
      ]
     },
     "metadata": {},
     "output_type": "display_data"
    }
   ],
   "source": [
    "print(classification_report(y_test, Lables_SVMC_predicted))\n",
    "sns.heatmap(confusion_matrix(y_test, Lables_SVMC_predicted), annot=True, fmt='d', cmap='viridis', xticklabels=['1', '2', '3', '4', '5'], yticklabels=['1', '2', '3', '4', '5'])"
   ]
  },
  {
   "cell_type": "code",
   "execution_count": 19,
   "metadata": {},
   "outputs": [
    {
     "name": "stdout",
     "output_type": "stream",
     "text": [
      "0\n",
      "1\n",
      "2\n"
     ]
    },
    {
     "ename": "KeyboardInterrupt",
     "evalue": "",
     "output_type": "error",
     "traceback": [
      "\u001b[1;31m---------------------------------------------------------------------------\u001b[0m",
      "\u001b[1;31mKeyboardInterrupt\u001b[0m                         Traceback (most recent call last)",
      "Cell \u001b[1;32mIn[19], line 10\u001b[0m\n\u001b[0;32m      8\u001b[0m SVMC\u001b[38;5;241m.\u001b[39mfit(Data_M, Data_labels_M)\n\u001b[0;32m      9\u001b[0m \u001b[38;5;28mprint\u001b[39m(i)\n\u001b[1;32m---> 10\u001b[0m OUT_SVMC2[\u001b[38;5;28mstr\u001b[39m(\u001b[38;5;124m\"\u001b[39m\u001b[38;5;124mchunk\u001b[39m\u001b[38;5;124m\"\u001b[39m\u001b[38;5;241m+\u001b[39m\u001b[38;5;28mstr\u001b[39m(i))] \u001b[38;5;241m=\u001b[39m \u001b[43mSVMC\u001b[49m\u001b[38;5;241;43m.\u001b[39;49m\u001b[43mpredict\u001b[49m\u001b[43m(\u001b[49m\u001b[43mX_test\u001b[49m\u001b[43m)\u001b[49m\n",
      "File \u001b[1;32m~\\AppData\\Local\\Packages\\PythonSoftwareFoundation.Python.3.12_qbz5n2kfra8p0\\LocalCache\\local-packages\\Python312\\site-packages\\sklearn\\pipeline.py:603\u001b[0m, in \u001b[0;36mPipeline.predict\u001b[1;34m(self, X, **params)\u001b[0m\n\u001b[0;32m    601\u001b[0m     \u001b[38;5;28;01mfor\u001b[39;00m _, name, transform \u001b[38;5;129;01min\u001b[39;00m \u001b[38;5;28mself\u001b[39m\u001b[38;5;241m.\u001b[39m_iter(with_final\u001b[38;5;241m=\u001b[39m\u001b[38;5;28;01mFalse\u001b[39;00m):\n\u001b[0;32m    602\u001b[0m         Xt \u001b[38;5;241m=\u001b[39m transform\u001b[38;5;241m.\u001b[39mtransform(Xt)\n\u001b[1;32m--> 603\u001b[0m     \u001b[38;5;28;01mreturn\u001b[39;00m \u001b[38;5;28;43mself\u001b[39;49m\u001b[38;5;241;43m.\u001b[39;49m\u001b[43msteps\u001b[49m\u001b[43m[\u001b[49m\u001b[38;5;241;43m-\u001b[39;49m\u001b[38;5;241;43m1\u001b[39;49m\u001b[43m]\u001b[49m\u001b[43m[\u001b[49m\u001b[38;5;241;43m1\u001b[39;49m\u001b[43m]\u001b[49m\u001b[38;5;241;43m.\u001b[39;49m\u001b[43mpredict\u001b[49m\u001b[43m(\u001b[49m\u001b[43mXt\u001b[49m\u001b[43m,\u001b[49m\u001b[43m \u001b[49m\u001b[38;5;241;43m*\u001b[39;49m\u001b[38;5;241;43m*\u001b[39;49m\u001b[43mparams\u001b[49m\u001b[43m)\u001b[49m\n\u001b[0;32m    605\u001b[0m \u001b[38;5;66;03m# metadata routing enabled\u001b[39;00m\n\u001b[0;32m    606\u001b[0m routed_params \u001b[38;5;241m=\u001b[39m process_routing(\u001b[38;5;28mself\u001b[39m, \u001b[38;5;124m\"\u001b[39m\u001b[38;5;124mpredict\u001b[39m\u001b[38;5;124m\"\u001b[39m, \u001b[38;5;241m*\u001b[39m\u001b[38;5;241m*\u001b[39mparams)\n",
      "File \u001b[1;32m~\\AppData\\Local\\Packages\\PythonSoftwareFoundation.Python.3.12_qbz5n2kfra8p0\\LocalCache\\local-packages\\Python312\\site-packages\\sklearn\\svm\\_base.py:814\u001b[0m, in \u001b[0;36mBaseSVC.predict\u001b[1;34m(self, X)\u001b[0m\n\u001b[0;32m    812\u001b[0m     y \u001b[38;5;241m=\u001b[39m np\u001b[38;5;241m.\u001b[39margmax(\u001b[38;5;28mself\u001b[39m\u001b[38;5;241m.\u001b[39mdecision_function(X), axis\u001b[38;5;241m=\u001b[39m\u001b[38;5;241m1\u001b[39m)\n\u001b[0;32m    813\u001b[0m \u001b[38;5;28;01melse\u001b[39;00m:\n\u001b[1;32m--> 814\u001b[0m     y \u001b[38;5;241m=\u001b[39m \u001b[38;5;28;43msuper\u001b[39;49m\u001b[43m(\u001b[49m\u001b[43m)\u001b[49m\u001b[38;5;241;43m.\u001b[39;49m\u001b[43mpredict\u001b[49m\u001b[43m(\u001b[49m\u001b[43mX\u001b[49m\u001b[43m)\u001b[49m\n\u001b[0;32m    815\u001b[0m \u001b[38;5;28;01mreturn\u001b[39;00m \u001b[38;5;28mself\u001b[39m\u001b[38;5;241m.\u001b[39mclasses_\u001b[38;5;241m.\u001b[39mtake(np\u001b[38;5;241m.\u001b[39masarray(y, dtype\u001b[38;5;241m=\u001b[39mnp\u001b[38;5;241m.\u001b[39mintp))\n",
      "File \u001b[1;32m~\\AppData\\Local\\Packages\\PythonSoftwareFoundation.Python.3.12_qbz5n2kfra8p0\\LocalCache\\local-packages\\Python312\\site-packages\\sklearn\\svm\\_base.py:431\u001b[0m, in \u001b[0;36mBaseLibSVM.predict\u001b[1;34m(self, X)\u001b[0m\n\u001b[0;32m    429\u001b[0m X \u001b[38;5;241m=\u001b[39m \u001b[38;5;28mself\u001b[39m\u001b[38;5;241m.\u001b[39m_validate_for_predict(X)\n\u001b[0;32m    430\u001b[0m predict \u001b[38;5;241m=\u001b[39m \u001b[38;5;28mself\u001b[39m\u001b[38;5;241m.\u001b[39m_sparse_predict \u001b[38;5;28;01mif\u001b[39;00m \u001b[38;5;28mself\u001b[39m\u001b[38;5;241m.\u001b[39m_sparse \u001b[38;5;28;01melse\u001b[39;00m \u001b[38;5;28mself\u001b[39m\u001b[38;5;241m.\u001b[39m_dense_predict\n\u001b[1;32m--> 431\u001b[0m \u001b[38;5;28;01mreturn\u001b[39;00m \u001b[43mpredict\u001b[49m\u001b[43m(\u001b[49m\u001b[43mX\u001b[49m\u001b[43m)\u001b[49m\n",
      "File \u001b[1;32m~\\AppData\\Local\\Packages\\PythonSoftwareFoundation.Python.3.12_qbz5n2kfra8p0\\LocalCache\\local-packages\\Python312\\site-packages\\sklearn\\svm\\_base.py:450\u001b[0m, in \u001b[0;36mBaseLibSVM._dense_predict\u001b[1;34m(self, X)\u001b[0m\n\u001b[0;32m    442\u001b[0m         \u001b[38;5;28;01mraise\u001b[39;00m \u001b[38;5;167;01mValueError\u001b[39;00m(\n\u001b[0;32m    443\u001b[0m             \u001b[38;5;124m\"\u001b[39m\u001b[38;5;124mX.shape[1] = \u001b[39m\u001b[38;5;132;01m%d\u001b[39;00m\u001b[38;5;124m should be equal to \u001b[39m\u001b[38;5;132;01m%d\u001b[39;00m\u001b[38;5;124m, \u001b[39m\u001b[38;5;124m\"\u001b[39m\n\u001b[0;32m    444\u001b[0m             \u001b[38;5;124m\"\u001b[39m\u001b[38;5;124mthe number of samples at training time\u001b[39m\u001b[38;5;124m\"\u001b[39m\n\u001b[0;32m    445\u001b[0m             \u001b[38;5;241m%\u001b[39m (X\u001b[38;5;241m.\u001b[39mshape[\u001b[38;5;241m1\u001b[39m], \u001b[38;5;28mself\u001b[39m\u001b[38;5;241m.\u001b[39mshape_fit_[\u001b[38;5;241m0\u001b[39m])\n\u001b[0;32m    446\u001b[0m         )\n\u001b[0;32m    448\u001b[0m svm_type \u001b[38;5;241m=\u001b[39m LIBSVM_IMPL\u001b[38;5;241m.\u001b[39mindex(\u001b[38;5;28mself\u001b[39m\u001b[38;5;241m.\u001b[39m_impl)\n\u001b[1;32m--> 450\u001b[0m \u001b[38;5;28;01mreturn\u001b[39;00m \u001b[43mlibsvm\u001b[49m\u001b[38;5;241;43m.\u001b[39;49m\u001b[43mpredict\u001b[49m\u001b[43m(\u001b[49m\n\u001b[0;32m    451\u001b[0m \u001b[43m    \u001b[49m\u001b[43mX\u001b[49m\u001b[43m,\u001b[49m\n\u001b[0;32m    452\u001b[0m \u001b[43m    \u001b[49m\u001b[38;5;28;43mself\u001b[39;49m\u001b[38;5;241;43m.\u001b[39;49m\u001b[43msupport_\u001b[49m\u001b[43m,\u001b[49m\n\u001b[0;32m    453\u001b[0m \u001b[43m    \u001b[49m\u001b[38;5;28;43mself\u001b[39;49m\u001b[38;5;241;43m.\u001b[39;49m\u001b[43msupport_vectors_\u001b[49m\u001b[43m,\u001b[49m\n\u001b[0;32m    454\u001b[0m \u001b[43m    \u001b[49m\u001b[38;5;28;43mself\u001b[39;49m\u001b[38;5;241;43m.\u001b[39;49m\u001b[43m_n_support\u001b[49m\u001b[43m,\u001b[49m\n\u001b[0;32m    455\u001b[0m \u001b[43m    \u001b[49m\u001b[38;5;28;43mself\u001b[39;49m\u001b[38;5;241;43m.\u001b[39;49m\u001b[43m_dual_coef_\u001b[49m\u001b[43m,\u001b[49m\n\u001b[0;32m    456\u001b[0m \u001b[43m    \u001b[49m\u001b[38;5;28;43mself\u001b[39;49m\u001b[38;5;241;43m.\u001b[39;49m\u001b[43m_intercept_\u001b[49m\u001b[43m,\u001b[49m\n\u001b[0;32m    457\u001b[0m \u001b[43m    \u001b[49m\u001b[38;5;28;43mself\u001b[39;49m\u001b[38;5;241;43m.\u001b[39;49m\u001b[43m_probA\u001b[49m\u001b[43m,\u001b[49m\n\u001b[0;32m    458\u001b[0m \u001b[43m    \u001b[49m\u001b[38;5;28;43mself\u001b[39;49m\u001b[38;5;241;43m.\u001b[39;49m\u001b[43m_probB\u001b[49m\u001b[43m,\u001b[49m\n\u001b[0;32m    459\u001b[0m \u001b[43m    \u001b[49m\u001b[43msvm_type\u001b[49m\u001b[38;5;241;43m=\u001b[39;49m\u001b[43msvm_type\u001b[49m\u001b[43m,\u001b[49m\n\u001b[0;32m    460\u001b[0m \u001b[43m    \u001b[49m\u001b[43mkernel\u001b[49m\u001b[38;5;241;43m=\u001b[39;49m\u001b[43mkernel\u001b[49m\u001b[43m,\u001b[49m\n\u001b[0;32m    461\u001b[0m \u001b[43m    \u001b[49m\u001b[43mdegree\u001b[49m\u001b[38;5;241;43m=\u001b[39;49m\u001b[38;5;28;43mself\u001b[39;49m\u001b[38;5;241;43m.\u001b[39;49m\u001b[43mdegree\u001b[49m\u001b[43m,\u001b[49m\n\u001b[0;32m    462\u001b[0m \u001b[43m    \u001b[49m\u001b[43mcoef0\u001b[49m\u001b[38;5;241;43m=\u001b[39;49m\u001b[38;5;28;43mself\u001b[39;49m\u001b[38;5;241;43m.\u001b[39;49m\u001b[43mcoef0\u001b[49m\u001b[43m,\u001b[49m\n\u001b[0;32m    463\u001b[0m \u001b[43m    \u001b[49m\u001b[43mgamma\u001b[49m\u001b[38;5;241;43m=\u001b[39;49m\u001b[38;5;28;43mself\u001b[39;49m\u001b[38;5;241;43m.\u001b[39;49m\u001b[43m_gamma\u001b[49m\u001b[43m,\u001b[49m\n\u001b[0;32m    464\u001b[0m \u001b[43m    \u001b[49m\u001b[43mcache_size\u001b[49m\u001b[38;5;241;43m=\u001b[39;49m\u001b[38;5;28;43mself\u001b[39;49m\u001b[38;5;241;43m.\u001b[39;49m\u001b[43mcache_size\u001b[49m\u001b[43m,\u001b[49m\n\u001b[0;32m    465\u001b[0m \u001b[43m\u001b[49m\u001b[43m)\u001b[49m\n",
      "\u001b[1;31mKeyboardInterrupt\u001b[0m: "
     ]
    }
   ],
   "source": [
    "Cs= [1,10,100,1000,10000,100000, 1000000]\n",
    "OUT_SVMC2 = {}\n",
    "for C in Cs:\n",
    "    for i in range(chunk_number):\n",
    "        Data_M = x_chunked[str(\"chunk\"+str(i))].copy()\n",
    "        Data_labels_M = y_chunked[str(\"chunk\"+str(i))].copy()\n",
    "        SVMC = Pipeline(steps=[('Normal', Normalizer()), ('SVMC', SVC(C=C, kernel='rbf'))])\n",
    "        SVMC.fit(Data_M, Data_labels_M)\n",
    "        print(i)\n",
    "        OUT_SVMC2[str(\"chunk\"+str(i))] = SVMC.predict(X_test)"
   ]
  },
  {
   "cell_type": "code",
   "execution_count": null,
   "metadata": {},
   "outputs": [],
   "source": [
    "chunk_number = 40\n",
    "chunk_size = math.ceil(len(y_train) / chunk_number)\n",
    "x_chunked = {}\n",
    "y_chunked = {}\n",
    "m = 0\n",
    "\n",
    "for i in range(0, len(y_train), chunk_size):\n",
    "    if m == chunk_number-1:\n",
    "        chunk_size = len(X_train) - m * chunk_size\n",
    "    x_chunked[str(\"chunk\"+str(m))] = X_train[i:i+chunk_size]\n",
    "    y_chunked[str(\"chunk\"+str(m))] = y_train[i:i+chunk_size]\n",
    "    print(chunk_size)\n",
    "    m = m + 1\n",
    "\n",
    "for i in range(chunk_number):\n",
    "    Data_M = x_chunked[str(\"chunk\"+str(i))].copy()\n",
    "    Data_labels_M = y_chunked[str(\"chunk\"+str(i))].copy()\n",
    "    SVMC = Pipeline(steps=[('Normal', Normalizer()), ('SVMC', SVC(C=1000000, kernel='rbf'))])\n",
    "    SVMC.fit(Data_M, Data_labels_M)\n",
    "    pickle.dump(SVMC, open(str(\"SV_Models\\\\SVMC\"+str(i)+\".pkl\"), 'wb'))\n",
    "    print(i)\n",
    "\n",
    "OUT_SVMC={}\n",
    "store = [[0 for col in range(chunk_number)] for row in range(len(y_test))]\n",
    "Lables_SVMC_predicted=[[0 for col in range(1)] for row in range(len(y_test))]\n",
    "\n",
    "for i in range(0,chunk_number):\n",
    "    SVMC1 = pickle.load(open(str('SV_Models\\\\SVMC' + str(i) + '.pkl'), 'rb'))\n",
    "    OUT_SVMC[str(\"chunk\"+str(i))] = SVMC1.predict(X_test)\n",
    "    print(i)\n",
    "\n",
    "for j in range(0,len(X_test)):\n",
    "    for i in range(0,chunk_number):\n",
    "        store[j][i]=OUT_SVMC[str(\"chunk\"+str(i))][j]\n",
    "        Lables_SVMC_predicted[j]=statistics.mode(store[j])"
   ]
  },
  {
   "cell_type": "code",
   "execution_count": null,
   "metadata": {},
   "outputs": [],
   "source": [
    "print(classification_report(y_test, Lables_SVMC_predicted))\n",
    "sns.heatmap(confusion_matrix(y_test, Lables_SVMC_predicted), annot=True, fmt='d', cmap='viridis', xticklabels=['1', '2', '3', '4', '5'], yticklabels=['1', '2', '3', '4', '5'])"
   ]
  }
 ],
 "metadata": {
  "kernelspec": {
   "display_name": "Python 3",
   "language": "python",
   "name": "python3"
  },
  "language_info": {
   "codemirror_mode": {
    "name": "ipython",
    "version": 3
   },
   "file_extension": ".py",
   "mimetype": "text/x-python",
   "name": "python",
   "nbconvert_exporter": "python",
   "pygments_lexer": "ipython3",
   "version": "3.12.2"
  }
 },
 "nbformat": 4,
 "nbformat_minor": 2
}
