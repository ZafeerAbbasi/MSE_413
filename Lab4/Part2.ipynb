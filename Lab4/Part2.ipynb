{
 "cells": [
  {
   "cell_type": "code",
   "execution_count": 155,
   "metadata": {},
   "outputs": [],
   "source": [
    "import numpy as np\n",
    "import matplotlib.pyplot as plt\n",
    "from keras.preprocessing import image_dataset_from_directory\n",
    "import tensorflow as tf\n",
    "from sklearn.preprocessing import MinMaxScaler\n",
    "from sklearn.multiclass import OneVsRestClassifier\n",
    "from sklearn.linear_model import Perceptron\n",
    "from sklearn.metrics import accuracy_score, precision_score, recall_score, f1_score"
   ]
  },
  {
   "cell_type": "code",
   "execution_count": 156,
   "metadata": {},
   "outputs": [
    {
     "name": "stdout",
     "output_type": "stream",
     "text": [
      "Found 1311 files belonging to 4 classes.\n",
      "Found 5712 files belonging to 4 classes.\n"
     ]
    }
   ],
   "source": [
    "testing = image_dataset_from_directory(\"Brain_tumor\\\\Testing\", pad_to_aspect_ratio=True)\n",
    "training = image_dataset_from_directory(\"Brain_tumor\\\\Training\", pad_to_aspect_ratio=True)"
   ]
  },
  {
   "cell_type": "code",
   "execution_count": 157,
   "metadata": {},
   "outputs": [],
   "source": [
    "training_set = training.take(int(0.25*len(training)))\n",
    "testing_set = testing.take(int(0.25*len(testing)))"
   ]
  },
  {
   "cell_type": "code",
   "execution_count": 158,
   "metadata": {},
   "outputs": [],
   "source": [
    "def data_vectorizer(data:tf.data.Dataset):\n",
    "    data = data.unbatch()\n",
    "    size = len(list(data))\n",
    "    vector = np.empty((size, 256*256*3), dtype=np.float32)\n",
    "    labels = np.empty((size,))\n",
    "    j = 0\n",
    "    for img, label in data:\n",
    "        vector[j, :] = img.numpy().flatten()\n",
    "        labels[j] = label.numpy()\n",
    "        j += 1\n",
    "    return vector, labels"
   ]
  },
  {
   "cell_type": "code",
   "execution_count": 159,
   "metadata": {},
   "outputs": [],
   "source": [
    "x_train, y_train = data_vectorizer(training_set)\n",
    "x_test, y_test = data_vectorizer(testing_set)"
   ]
  },
  {
   "cell_type": "code",
   "execution_count": 160,
   "metadata": {},
   "outputs": [
    {
     "name": "stdout",
     "output_type": "stream",
     "text": [
      "Training set size: (1408, 196608)\n",
      "Testing set size: (320, 196608)\n"
     ]
    }
   ],
   "source": [
    "print(\"Training set size: {}\".format(np.shape(x_train)))\n",
    "print(\"Testing set size: {}\".format(np.shape(x_test)))"
   ]
  },
  {
   "cell_type": "code",
   "execution_count": 161,
   "metadata": {},
   "outputs": [],
   "source": [
    "scaler = MinMaxScaler((0,1)).fit(x_train, y_train)\n",
    "scaled_x_train = scaler.transform(x_train)\n",
    "percep = Perceptron().fit(scaled_x_train, y_train)\n",
    "model = OneVsRestClassifier(percep).fit(scaled_x_train, y_train)"
   ]
  },
  {
   "cell_type": "code",
   "execution_count": 172,
   "metadata": {},
   "outputs": [
    {
     "name": "stdout",
     "output_type": "stream",
     "text": [
      "Accuracy: 0.775\n",
      "Precision: 0.7737355860350263\n",
      "Recall: 0.775\n",
      "F1: 0.7726091619236293\n"
     ]
    }
   ],
   "source": [
    "from sklearn.metrics import accuracy_score\n",
    "outputs = model.predict(scaler.transform(x_test))\n",
    "print(\"Accuracy: {}\".format(accuracy_score(y_test, outputs)))\n",
    "print(\"Precision: {}\".format(precision_score(y_test, outputs, average='weighted')))\n",
    "print(\"Recall: {}\".format(recall_score(y_test, outputs, average='weighted')))\n",
    "print(\"F1: {}\".format(f1_score(y_test, outputs, average='weighted')))"
   ]
  }
 ],
 "metadata": {
  "kernelspec": {
   "display_name": "Python 3",
   "language": "python",
   "name": "python3"
  },
  "language_info": {
   "codemirror_mode": {
    "name": "ipython",
    "version": 3
   },
   "file_extension": ".py",
   "mimetype": "text/x-python",
   "name": "python",
   "nbconvert_exporter": "python",
   "pygments_lexer": "ipython3",
   "version": "3.11.7"
  }
 },
 "nbformat": 4,
 "nbformat_minor": 2
}
